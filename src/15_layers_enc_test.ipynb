{
 "cells": [
  {
   "cell_type": "markdown",
   "metadata": {},
   "source": [
    "## Encoder を 15 レイヤー用意し，時系列的に入力するモデルの検証\n"
   ]
  },
  {
   "cell_type": "markdown",
   "metadata": {},
   "source": [
    "### Import\n"
   ]
  },
  {
   "cell_type": "code",
   "execution_count": 29,
   "metadata": {},
   "outputs": [],
   "source": [
    "import python.util as util\n",
    "from pathlib import Path\n",
    "import importlib\n",
    "from typing import Dict\n",
    "from transformers import RobertaForSequenceClassification\n",
    "import torch\n",
    "from datasets import Dataset\n",
    "import pandas as pd\n",
    "import numpy as np\n",
    "import yaml"
   ]
  },
  {
   "cell_type": "markdown",
   "metadata": {},
   "source": [
    "### DEFINE PATH\n"
   ]
  },
  {
   "cell_type": "code",
   "execution_count": 30,
   "metadata": {},
   "outputs": [
    {
     "name": "stdout",
     "output_type": "stream",
     "text": [
      "BASE_PATH: /home/masa1357/Dockerdata/gitfile/15-Encoders\n",
      "DATA_PATH: /home/masa1357/Dockerdata/gitfile/15-Encoders/data\n",
      "MODEL_PATH: /home/masa1357/Dockerdata/gitfile/15-Encoders/model\n"
     ]
    }
   ],
   "source": [
    "BASE_PATH = Path.cwd().parent\n",
    "DATA_PATH = BASE_PATH / \"data\"\n",
    "MODEL_PATH = BASE_PATH / \"model\"\n",
    "print(f\"BASE_PATH: {BASE_PATH}\")\n",
    "print(f\"DATA_PATH: {DATA_PATH}\")\n",
    "print(f\"MODEL_PATH: {MODEL_PATH}\")"
   ]
  },
  {
   "cell_type": "markdown",
   "metadata": {},
   "source": [
    "### Set Seed & Set Logger\n"
   ]
  },
  {
   "cell_type": "code",
   "execution_count": 31,
   "metadata": {},
   "outputs": [
    {
     "name": "stderr",
     "output_type": "stream",
     "text": [
      "2024-09-28 06:15:48,462 : python.util : INFO : 34 : Test_message\n"
     ]
    }
   ],
   "source": [
    "importlib.reload(util)\n",
    "# ? logger読み込み\n",
    "name = \"15-Ensemble\"\n",
    "logger = util.set_logger()\n",
    "# ? seed値固定\n",
    "seed = 42\n",
    "util.set_seed(seed)"
   ]
  },
  {
   "cell_type": "code",
   "execution_count": 32,
   "metadata": {},
   "outputs": [
    {
     "name": "stderr",
     "output_type": "stream",
     "text": [
      "2024-09-28 06:15:48,489 : python.util.python.data_manager : INFO : 16 : setup Child logger : python.data_manager\n",
      "2024-09-28 06:15:48,491 : python.util.python.data_manager : INFO : 65 : Read /home/masa1357/Dockerdata/gitfile/15-Encoders/data/Reflection *.csv data...\n",
      "2024-09-28 06:15:48,492 : python.util.python.data_manager : INFO : 67 : Found files: [PosixPath('/home/masa1357/Dockerdata/gitfile/15-Encoders/data/Reflection/Course_C-2021-2_Reflection.csv'), PosixPath('/home/masa1357/Dockerdata/gitfile/15-Encoders/data/Reflection/Course_C-2022-1_Reflection.csv'), PosixPath('/home/masa1357/Dockerdata/gitfile/15-Encoders/data/Reflection/Course_C-2021-1_Reflection.csv')]\n",
      "2024-09-28 06:15:48,611 : python.util.python.data_manager : INFO : 74 : Total rows: 28275\n",
      "2024-09-28 06:15:48,612 : python.util.python.data_manager : INFO : 65 : Read /home/masa1357/Dockerdata/gitfile/15-Encoders/data/Grade *.csv data...\n",
      "2024-09-28 06:15:48,614 : python.util.python.data_manager : INFO : 67 : Found files: [PosixPath('/home/masa1357/Dockerdata/gitfile/15-Encoders/data/Grade/Course_C-2022-1_GradePoint.csv'), PosixPath('/home/masa1357/Dockerdata/gitfile/15-Encoders/data/Grade/Course_C-2021-1_GradePoint.csv'), PosixPath('/home/masa1357/Dockerdata/gitfile/15-Encoders/data/Grade/Course_C-2021-2_GradePoint.csv')]\n",
      "2024-09-28 06:15:48,619 : python.util.python.data_manager : INFO : 74 : Total rows: 378\n",
      "2024-09-28 06:15:48,641 : python.util.python.data_manager : INFO : 135 : df shape : (28275, 6)\n",
      "2024-09-28 06:15:48,642 : python.util.python.data_manager : INFO : 136 : cleaned_df shape : (20291, 6)\n",
      "2024-09-28 06:15:48,643 : python.util.python.data_manager : INFO : 137 : dumped 7984 rows.\n"
     ]
    },
    {
     "name": "stdout",
     "output_type": "stream",
     "text": [
      "[load data] start\n"
     ]
    },
    {
     "name": "stderr",
     "output_type": "stream",
     "text": [
      "2024-09-28 06:15:48,650 : python.util.python.data_manager : INFO : 146 : dump_df shape : (7984, 6)\n"
     ]
    },
    {
     "name": "stdout",
     "output_type": "stream",
     "text": [
      "[load data] done in 0.73 s\n"
     ]
    }
   ],
   "source": [
    "# ? データ読み込み\n",
    "import python.data_manager as dm\n",
    "\n",
    "importlib.reload(dm)\n",
    "# argsでloggerの名前を送る\n",
    "\n",
    "args: Dict[str, object] = {\n",
    "    \"logger\": logger,\n",
    "    \"DATA_PATH\": DATA_PATH,\n",
    "    \"key\": \"userid\",\n",
    "    \"text\": \"answer_content\",\n",
    "    \"label\": \"grade\",\n",
    "    \"mode\": \"all\",\n",
    "    \"split_rate\": [0.8, 0.2, 0],\n",
    "    \"seed\": seed,\n",
    "}\n",
    "\n",
    "with util.timer(\"load data\"):\n",
    "    dp = dm.DataProcessing(args)\n",
    "    df = dp()"
   ]
  },
  {
   "cell_type": "code",
   "execution_count": 33,
   "metadata": {},
   "outputs": [
    {
     "data": {
      "text/html": [
       "<div>\n",
       "<style scoped>\n",
       "    .dataframe tbody tr th:only-of-type {\n",
       "        vertical-align: middle;\n",
       "    }\n",
       "\n",
       "    .dataframe tbody tr th {\n",
       "        vertical-align: top;\n",
       "    }\n",
       "\n",
       "    .dataframe thead th {\n",
       "        text-align: right;\n",
       "    }\n",
       "</style>\n",
       "<table border=\"1\" class=\"dataframe\">\n",
       "  <thead>\n",
       "    <tr style=\"text-align: right;\">\n",
       "      <th></th>\n",
       "      <th>userid</th>\n",
       "      <th>grade</th>\n",
       "      <th>text</th>\n",
       "      <th>course_number</th>\n",
       "      <th>question_number</th>\n",
       "      <th>label</th>\n",
       "    </tr>\n",
       "  </thead>\n",
       "  <tbody>\n",
       "    <tr>\n",
       "      <th>0</th>\n",
       "      <td>C-2021-1_U1</td>\n",
       "      <td>F</td>\n",
       "      <td>情報伝達には声モルス信号など様々な形があり人類の進化と共により高度に精度が高められてきた</td>\n",
       "      <td>01</td>\n",
       "      <td>1</td>\n",
       "      <td>4</td>\n",
       "    </tr>\n",
       "    <tr>\n",
       "      <th>1</th>\n",
       "      <td>C-2021-1_U10</td>\n",
       "      <td>B</td>\n",
       "      <td>高校時代で習った情報だけでは現代の進化についていけない\\r\\n情報はどんな形であっても〇と●...</td>\n",
       "      <td>01</td>\n",
       "      <td>1</td>\n",
       "      <td>1</td>\n",
       "    </tr>\n",
       "    <tr>\n",
       "      <th>2</th>\n",
       "      <td>C-2021-1_U100</td>\n",
       "      <td>C</td>\n",
       "      <td>情報の発展の仕方\\r\\n授業の参加の仕方</td>\n",
       "      <td>01</td>\n",
       "      <td>1</td>\n",
       "      <td>2</td>\n",
       "    </tr>\n",
       "  </tbody>\n",
       "</table>\n",
       "</div>"
      ],
      "text/plain": [
       "          userid grade                                               text  \\\n",
       "0    C-2021-1_U1     F       情報伝達には声モルス信号など様々な形があり人類の進化と共により高度に精度が高められてきた   \n",
       "1   C-2021-1_U10     B  高校時代で習った情報だけでは現代の進化についていけない\\r\\n情報はどんな形であっても〇と●...   \n",
       "2  C-2021-1_U100     C                               情報の発展の仕方\\r\\n授業の参加の仕方   \n",
       "\n",
       "  course_number question_number  label  \n",
       "0            01               1      4  \n",
       "1            01               1      1  \n",
       "2            01               1      2  "
      ]
     },
     "execution_count": 33,
     "metadata": {},
     "output_type": "execute_result"
    }
   ],
   "source": [
    "df.head(3)"
   ]
  },
  {
   "cell_type": "markdown",
   "metadata": {},
   "source": [
    "### 各生徒の回答を時系列でグループ化\n"
   ]
  },
  {
   "cell_type": "code",
   "execution_count": 34,
   "metadata": {},
   "outputs": [
    {
     "name": "stderr",
     "output_type": "stream",
     "text": [
      "/home/masa1357/Dockerdata/gitfile/15-Encoders/src/python/data_manager.py:280: SettingWithCopyWarning: \n",
      "A value is trying to be set on a copy of a slice from a DataFrame.\n",
      "Try using .loc[row_indexer,col_indexer] = value instead\n",
      "\n",
      "See the caveats in the documentation: https://pandas.pydata.org/pandas-docs/stable/user_guide/indexing.html#returning-a-view-versus-a-copy\n",
      "  df.loc[:, \"new_column\"] = df.apply(create_column_name, axis=1)\n"
     ]
    },
    {
     "data": {
      "text/html": [
       "<div>\n",
       "<style scoped>\n",
       "    .dataframe tbody tr th:only-of-type {\n",
       "        vertical-align: middle;\n",
       "    }\n",
       "\n",
       "    .dataframe tbody tr th {\n",
       "        vertical-align: top;\n",
       "    }\n",
       "\n",
       "    .dataframe thead th {\n",
       "        text-align: right;\n",
       "    }\n",
       "</style>\n",
       "<table border=\"1\" class=\"dataframe\">\n",
       "  <thead>\n",
       "    <tr style=\"text-align: right;\">\n",
       "      <th>new_column</th>\n",
       "      <th>userid</th>\n",
       "      <th>label</th>\n",
       "      <th>01-1</th>\n",
       "      <th>02-1</th>\n",
       "      <th>03-1</th>\n",
       "      <th>04-1</th>\n",
       "      <th>05-1</th>\n",
       "      <th>06-1</th>\n",
       "      <th>07-1</th>\n",
       "      <th>08-1</th>\n",
       "      <th>09-1</th>\n",
       "      <th>10-1</th>\n",
       "      <th>11-1</th>\n",
       "      <th>12-1</th>\n",
       "      <th>13-1</th>\n",
       "      <th>14-1</th>\n",
       "      <th>15-1</th>\n",
       "    </tr>\n",
       "  </thead>\n",
       "  <tbody>\n",
       "    <tr>\n",
       "      <th>0</th>\n",
       "      <td>C-2021-1_U1</td>\n",
       "      <td>4</td>\n",
       "      <td>情報伝達には声モルス信号など様々な形があり人類の進化と共により高度に精度が高められてきた</td>\n",
       "      <td>情報源符号化とは情報を黒と白の○で表すことで複合とは符号化によって得られたものを元に戻す作業...</td>\n",
       "      <td>生起確率pの事象の生起を知ったことによる曖昧さの減少量は情報量と一致し生起確率pが高いほど情...</td>\n",
       "      <td>通信の際に符号の誤りを検出・訂正する仕組みについて学んだ符号の誤りは符号語同士がs+1以上離...</td>\n",
       "      <td>コンピュタサイエンスは計算機科学であるともされ全ての科学技術分野の基盤となりうるものであるコ...</td>\n",
       "      <td>計算ステップ数とはアルゴリズムが終了するまでに行われる演算の数である最大公約数の問題では剰余...</td>\n",
       "      <td>マジソトとは入力数列を分割していき分割したものを整列して統合(マジ)するアルゴリズムであるヒ...</td>\n",
       "      <td>[NA]</td>\n",
       "      <td>[NA]</td>\n",
       "      <td>[NA]</td>\n",
       "      <td>[NA]</td>\n",
       "      <td>[NA]</td>\n",
       "      <td>[NA]</td>\n",
       "      <td>[NA]</td>\n",
       "      <td>[NA]</td>\n",
       "    </tr>\n",
       "    <tr>\n",
       "      <th>1</th>\n",
       "      <td>C-2021-1_U10</td>\n",
       "      <td>1</td>\n",
       "      <td>高校時代で習った情報だけでは現代の進化についていけない\\r\\n情報はどんな形であっても〇と●...</td>\n",
       "      <td>どのように情報を短く表現するか\\r\\n符号をを一意に素早く戻すためにはどのような符号にすればよいか</td>\n",
       "      <td>情報の量を表すためにはどのようにすればよいか\\r\\n2つの現象が起こった場合相互の情報量はど...</td>\n",
       "      <td>誤りの自動検出と自動訂正が可能なハミング距離\\r\\n符号化効率とブロック誤り率</td>\n",
       "      <td>基礎科学としてのコンピュタサイエンス\\r\\nコンピュタサイエンスにおける計算と問題とは何か\\...</td>\n",
       "      <td>色々なソトの種類とその計算時間量や比較回数\\r\\n</td>\n",
       "      <td>マジソトと2分探索法\\r\\n比較ベスのソトアルゴリズムのまとめ</td>\n",
       "      <td>デタとは何か\\r\\nデタの予測発見分類・グルピング\\r\\n</td>\n",
       "      <td>人工知能(AI)特化型AIとは何か\\r\\n身の回りの人工知能\\r\\n人工知能の機械学習\\r\\...</td>\n",
       "      <td>非構造化デタの処理\\r\\nパタン認識とは何か\\r\\nパタン認識と機械学習</td>\n",
       "      <td>デタ収集とバイアス\\r\\n個人情報とデタ\\r\\nオプンデタについて</td>\n",
       "      <td>ベクトルによるデタ表現ベクトルとは何か\\r\\nベクトルとデタ分析の関係\\r\\n距離や類似度と...</td>\n",
       "      <td>デタの可視化とは\\r\\n色々な可視化方法\\r\\n多次元デタの可視化</td>\n",
       "      <td>相関デタの広がりと分散\\r\\n統計的検定とは何か\\r\\n画像処理と解析(フィルタ処理)</td>\n",
       "      <td>期末テスト\\r\\n授業アンケト</td>\n",
       "    </tr>\n",
       "    <tr>\n",
       "      <th>2</th>\n",
       "      <td>C-2021-1_U100</td>\n",
       "      <td>2</td>\n",
       "      <td>情報の発展の仕方\\r\\n授業の参加の仕方</td>\n",
       "      <td>情報源符号化によって情報が伝えられるときより軽く瞬時に伝わるような仕組み</td>\n",
       "      <td>エントロピ情報量について</td>\n",
       "      <td>通信路符号化ビット反転によってノイズが生じる仕組み自動訂正自動検出について</td>\n",
       "      <td>計算とアルゴリズムについて効率のよい計算</td>\n",
       "      <td>いろいろなソトについて</td>\n",
       "      <td>マジソト2分探索法について</td>\n",
       "      <td>デタについて</td>\n",
       "      <td>AIについての基礎情報</td>\n",
       "      <td>非構造デタとはパタン認識とは</td>\n",
       "      <td>デタの収集にはどのような方法があるのか調査方法バイアスとは個人情報について</td>\n",
       "      <td>ベクトルについていろいろな距離についてデタにおける類似とは</td>\n",
       "      <td>デタの可視化について</td>\n",
       "      <td>デタの間の関係性相関統計的検定について画像解析フィルタ処理について</td>\n",
       "      <td>期末テスト</td>\n",
       "    </tr>\n",
       "  </tbody>\n",
       "</table>\n",
       "</div>"
      ],
      "text/plain": [
       "new_column         userid  label  \\\n",
       "0             C-2021-1_U1      4   \n",
       "1            C-2021-1_U10      1   \n",
       "2           C-2021-1_U100      2   \n",
       "\n",
       "new_column                                               01-1  \\\n",
       "0                情報伝達には声モルス信号など様々な形があり人類の進化と共により高度に精度が高められてきた   \n",
       "1           高校時代で習った情報だけでは現代の進化についていけない\\r\\n情報はどんな形であっても〇と●...   \n",
       "2                                        情報の発展の仕方\\r\\n授業の参加の仕方   \n",
       "\n",
       "new_column                                               02-1  \\\n",
       "0           情報源符号化とは情報を黒と白の○で表すことで複合とは符号化によって得られたものを元に戻す作業...   \n",
       "1           どのように情報を短く表現するか\\r\\n符号をを一意に素早く戻すためにはどのような符号にすればよいか   \n",
       "2                        情報源符号化によって情報が伝えられるときより軽く瞬時に伝わるような仕組み   \n",
       "\n",
       "new_column                                               03-1  \\\n",
       "0           生起確率pの事象の生起を知ったことによる曖昧さの減少量は情報量と一致し生起確率pが高いほど情...   \n",
       "1           情報の量を表すためにはどのようにすればよいか\\r\\n2つの現象が起こった場合相互の情報量はど...   \n",
       "2                                                エントロピ情報量について   \n",
       "\n",
       "new_column                                               04-1  \\\n",
       "0           通信の際に符号の誤りを検出・訂正する仕組みについて学んだ符号の誤りは符号語同士がs+1以上離...   \n",
       "1                     誤りの自動検出と自動訂正が可能なハミング距離\\r\\n符号化効率とブロック誤り率   \n",
       "2                       通信路符号化ビット反転によってノイズが生じる仕組み自動訂正自動検出について   \n",
       "\n",
       "new_column                                               05-1  \\\n",
       "0           コンピュタサイエンスは計算機科学であるともされ全ての科学技術分野の基盤となりうるものであるコ...   \n",
       "1           基礎科学としてのコンピュタサイエンス\\r\\nコンピュタサイエンスにおける計算と問題とは何か\\...   \n",
       "2                                        計算とアルゴリズムについて効率のよい計算   \n",
       "\n",
       "new_column                                               06-1  \\\n",
       "0           計算ステップ数とはアルゴリズムが終了するまでに行われる演算の数である最大公約数の問題では剰余...   \n",
       "1                                   色々なソトの種類とその計算時間量や比較回数\\r\\n   \n",
       "2                                                 いろいろなソトについて   \n",
       "\n",
       "new_column                                               07-1  \\\n",
       "0           マジソトとは入力数列を分割していき分割したものを整列して統合(マジ)するアルゴリズムであるヒ...   \n",
       "1                             マジソトと2分探索法\\r\\n比較ベスのソトアルゴリズムのまとめ   \n",
       "2                                               マジソト2分探索法について   \n",
       "\n",
       "new_column                           08-1  \\\n",
       "0                                    [NA]   \n",
       "1           デタとは何か\\r\\nデタの予測発見分類・グルピング\\r\\n   \n",
       "2                                  デタについて   \n",
       "\n",
       "new_column                                               09-1  \\\n",
       "0                                                        [NA]   \n",
       "1           人工知能(AI)特化型AIとは何か\\r\\n身の回りの人工知能\\r\\n人工知能の機械学習\\r\\...   \n",
       "2                                                 AIについての基礎情報   \n",
       "\n",
       "new_column                                  10-1  \\\n",
       "0                                           [NA]   \n",
       "1           非構造化デタの処理\\r\\nパタン認識とは何か\\r\\nパタン認識と機械学習   \n",
       "2                                 非構造デタとはパタン認識とは   \n",
       "\n",
       "new_column                                   11-1  \\\n",
       "0                                            [NA]   \n",
       "1               デタ収集とバイアス\\r\\n個人情報とデタ\\r\\nオプンデタについて   \n",
       "2           デタの収集にはどのような方法があるのか調査方法バイアスとは個人情報について   \n",
       "\n",
       "new_column                                               12-1  \\\n",
       "0                                                        [NA]   \n",
       "1           ベクトルによるデタ表現ベクトルとは何か\\r\\nベクトルとデタ分析の関係\\r\\n距離や類似度と...   \n",
       "2                               ベクトルについていろいろな距離についてデタにおける類似とは   \n",
       "\n",
       "new_column                               13-1  \\\n",
       "0                                        [NA]   \n",
       "1           デタの可視化とは\\r\\n色々な可視化方法\\r\\n多次元デタの可視化   \n",
       "2                                  デタの可視化について   \n",
       "\n",
       "new_column                                         14-1             15-1  \n",
       "0                                                  [NA]             [NA]  \n",
       "1           相関デタの広がりと分散\\r\\n統計的検定とは何か\\r\\n画像処理と解析(フィルタ処理)  期末テスト\\r\\n授業アンケト  \n",
       "2                     デタの間の関係性相関統計的検定について画像解析フィルタ処理について            期末テスト  "
      ]
     },
     "execution_count": 34,
     "metadata": {},
     "output_type": "execute_result"
    }
   ],
   "source": [
    "# 質問番号でフィルタ\n",
    "filter = \"1\"\n",
    "Qfilter_df = dm.encode(df, logger=logger, filter=filter)\n",
    "Qfilter_df.head(3)"
   ]
  },
  {
   "cell_type": "markdown",
   "metadata": {},
   "source": [
    "### Convert to Dataset\n"
   ]
  },
  {
   "cell_type": "code",
   "execution_count": 35,
   "metadata": {},
   "outputs": [],
   "source": [
    "# dataset化\n",
    "# datasetの概要：train/validの2種類\n",
    "# train: 0.8, valid: 0.2\n",
    "# input:15個のの回答文ー＞時系列情報を持っているため，dfの列名に含まれている番号を考慮して順番を守って保持\n",
    "# label: df['label']を利用\n",
    "# \n",
    "\n",
    "def create_dataset(df: pd.DataFrame, label_column: str):\n",
    "    # データフレームからinputデータとlabelを抽出\n",
    "    inputs = df[[f\"{i:02}-1\" for i in range(1, 16)]].values.tolist()\n",
    "    labels = df[label_column].tolist()\n",
    "    \n",
    "    # データセットの形式に変換\n",
    "    dataset_dict = {\n",
    "        'input': inputs,\n",
    "        'label': labels\n",
    "    }\n",
    "    \n",
    "    # Dataset型に変換\n",
    "    dataset = Dataset.from_dict(dataset_dict)\n",
    "    \n",
    "    return dataset"
   ]
  },
  {
   "cell_type": "code",
   "execution_count": 36,
   "metadata": {},
   "outputs": [],
   "source": [
    "train_dataset = create_dataset(Qfilter_df, 'label')"
   ]
  },
  {
   "cell_type": "code",
   "execution_count": 37,
   "metadata": {},
   "outputs": [
    {
     "data": {
      "text/plain": [
       "{'input': ['情報伝達には声モルス信号など様々な形があり人類の進化と共により高度に精度が高められてきた',\n",
       "  '情報源符号化とは情報を黒と白の○で表すことで複合とは符号化によって得られたものを元に戻す作業のことであるそれらの過程の中で平均符号語長を短くすることが目指されるそこで一意符号可能性と瞬時復号可能性を持つ語頭符号を用いる\\r\\nエントロピとは平均符号語長の下限のことである',\n",
       "  '生起確率pの事象の生起を知ったことによる曖昧さの減少量は情報量と一致し生起確率pが高いほど情報量は現状しまた逆もしかりであるまたエントロピは情報量の期待値と一致する相互情報量とはある事象2つが相互に関連して生起した場合に得られる情報量のことである',\n",
       "  '通信の際に符号の誤りを検出・訂正する仕組みについて学んだ符号の誤りは符号語同士がs+1以上離れていればs個検出でき2t+1離れていればt個訂正することができるまたその距離をハミング距離と言う',\n",
       "  'コンピュタサイエンスは計算機科学であるともされ全ての科学技術分野の基盤となりうるものであるコンピュタ上で行われている全てのことは計算でありコンピュタサイエンスはそれを制御・理解するための科学である\\r\\nアルゴリズムとは関数の計算方法を示す手続きのことを言いプログラムとはアルゴリズムをコンピュタが分かる言葉で記述したものであるアルゴリズムを上手く考えることができれば偽コイン発見の問題のように作業を効率化最適化することができる大きな数の因数分解は難しいためユクリッドの互除法を用いれば容易に計算できる',\n",
       "  '計算ステップ数とはアルゴリズムが終了するまでに行われる演算の数である最大公約数の問題では剰余を考えるバブルソトとは隣り合う要素の大小を比較しながら昇順もしくは降順に整列していくことである2進木のソトを読むときには通りがけ順で左の子→自分→右の子の順番で読む２進木の一種にヒプがある',\n",
       "  'マジソトとは入力数列を分割していき分割したものを整列して統合(マジ)するアルゴリズムであるヒプソトと同様にO(nlogn)回の比較で要素を整列する2進木を使用しないためよりシンプルである最悪時の比較回数は決定木の高さに等しい\\r\\n線形探索が数列を先頭から探索していくのに対し二部探索は真ん中の要素から比較して前半部分・後半部分のどちらか選んで探索していくものであるなので後者の方が圧倒的に速い',\n",
       "  '[NA]',\n",
       "  '[NA]',\n",
       "  '[NA]',\n",
       "  '[NA]',\n",
       "  '[NA]',\n",
       "  '[NA]',\n",
       "  '[NA]',\n",
       "  '[NA]'],\n",
       " 'label': 4}"
      ]
     },
     "metadata": {},
     "output_type": "display_data"
    },
    {
     "data": {
      "text/plain": [
       "'train_datasetの形状'"
      ]
     },
     "metadata": {},
     "output_type": "display_data"
    },
    {
     "data": {
      "text/plain": [
       "dict_keys(['input', 'label'])"
      ]
     },
     "metadata": {},
     "output_type": "display_data"
    },
    {
     "data": {
      "text/plain": [
       "'train_datasetの行数'"
      ]
     },
     "metadata": {},
     "output_type": "display_data"
    },
    {
     "data": {
      "text/plain": [
       "374"
      ]
     },
     "metadata": {},
     "output_type": "display_data"
    }
   ],
   "source": [
    "# train_datasetの確認\n",
    "display(train_dataset[0])\n",
    "# train_datasetの形状確認\n",
    "display(\"train_datasetの形状\", train_dataset[0].keys())\n",
    "\n",
    "# train_datasetの行数確認\n",
    "display(\"train_datasetの行数\", len(train_dataset))\n"
   ]
  },
  {
   "cell_type": "markdown",
   "metadata": {},
   "source": [
    "### Load Architecture Params\n"
   ]
  },
  {
   "cell_type": "code",
   "execution_count": 38,
   "metadata": {},
   "outputs": [
    {
     "name": "stderr",
     "output_type": "stream",
     "text": [
      "2024-09-28 06:15:49,507 : python.util : INFO : 3 : {'num_layers': 15, 'd_model': 512, 'num_heads': 8, 'dff': 2048, 'dropout_rate': 0.1}\n"
     ]
    }
   ],
   "source": [
    "with open(\"./config/Encoder_Architecture.yaml\") as file:\n",
    "    EncoderModelConfig = yaml.safe_load(file)\n",
    "    logger.info(EncoderModelConfig)"
   ]
  },
  {
   "cell_type": "markdown",
   "metadata": {},
   "source": [
    "### Load Encoder Model Weight\n"
   ]
  },
  {
   "cell_type": "code",
   "execution_count": 39,
   "metadata": {},
   "outputs": [
    {
     "name": "stderr",
     "output_type": "stream",
     "text": [
      "2024-09-28 06:15:49,514 : python.util : INFO : 12 : Model weight found: roberta_base_japanese_default\n"
     ]
    }
   ],
   "source": [
    "# Load Encoder model weight\n",
    "name = \"roberta_base_japanese_default\"\n",
    "if not (MODEL_PATH / name).exists():\n",
    "    logger.warning(f\"Model weight not found: {name}\")\n",
    "    logger.info(\"load online model weight\")\n",
    "    model = RobertaForSequenceClassification.from_pretrained(\n",
    "        \"nlp-waseda/roberta-base-japanese\", num_labels=5\n",
    "    )\n",
    "    # Save model\n",
    "    model.save_pretrained(MODEL_PATH / \"roberta_base_japanese_default\")\n",
    "else:\n",
    "    logger.info(f\"Model weight found: {name}\")\n",
    "    model = RobertaForSequenceClassification.from_pretrained(\n",
    "        MODEL_PATH / name, num_labels=5\n",
    "    )"
   ]
  },
  {
   "cell_type": "code",
   "execution_count": 40,
   "metadata": {},
   "outputs": [
    {
     "data": {
      "text/plain": [
       "RobertaForSequenceClassification(\n",
       "  (roberta): RobertaModel(\n",
       "    (embeddings): RobertaEmbeddings(\n",
       "      (word_embeddings): Embedding(32000, 768, padding_idx=0)\n",
       "      (position_embeddings): Embedding(514, 768, padding_idx=0)\n",
       "      (token_type_embeddings): Embedding(2, 768)\n",
       "      (LayerNorm): LayerNorm((768,), eps=1e-12, elementwise_affine=True)\n",
       "      (dropout): Dropout(p=0.1, inplace=False)\n",
       "    )\n",
       "    (encoder): RobertaEncoder(\n",
       "      (layer): ModuleList(\n",
       "        (0-11): 12 x RobertaLayer(\n",
       "          (attention): RobertaAttention(\n",
       "            (self): RobertaSelfAttention(\n",
       "              (query): Linear(in_features=768, out_features=768, bias=True)\n",
       "              (key): Linear(in_features=768, out_features=768, bias=True)\n",
       "              (value): Linear(in_features=768, out_features=768, bias=True)\n",
       "              (dropout): Dropout(p=0.1, inplace=False)\n",
       "            )\n",
       "            (output): RobertaSelfOutput(\n",
       "              (dense): Linear(in_features=768, out_features=768, bias=True)\n",
       "              (LayerNorm): LayerNorm((768,), eps=1e-12, elementwise_affine=True)\n",
       "              (dropout): Dropout(p=0.1, inplace=False)\n",
       "            )\n",
       "          )\n",
       "          (intermediate): RobertaIntermediate(\n",
       "            (dense): Linear(in_features=768, out_features=3072, bias=True)\n",
       "            (intermediate_act_fn): GELUActivation()\n",
       "          )\n",
       "          (output): RobertaOutput(\n",
       "            (dense): Linear(in_features=3072, out_features=768, bias=True)\n",
       "            (LayerNorm): LayerNorm((768,), eps=1e-12, elementwise_affine=True)\n",
       "            (dropout): Dropout(p=0.1, inplace=False)\n",
       "          )\n",
       "        )\n",
       "      )\n",
       "    )\n",
       "  )\n",
       "  (classifier): RobertaClassificationHead(\n",
       "    (dense): Linear(in_features=768, out_features=768, bias=True)\n",
       "    (dropout): Dropout(p=0.1, inplace=False)\n",
       "    (out_proj): Linear(in_features=768, out_features=5, bias=True)\n",
       "  )\n",
       ")"
      ]
     },
     "execution_count": 40,
     "metadata": {},
     "output_type": "execute_result"
    }
   ],
   "source": [
    "# モデルの確認\n",
    "model"
   ]
  },
  {
   "cell_type": "code",
   "execution_count": 41,
   "metadata": {},
   "outputs": [
    {
     "name": "stdout",
     "output_type": "stream",
     "text": [
      "Something is happening before the function is called.\n",
      "Hello!\n",
      "Something is happening after the function is called.\n"
     ]
    }
   ],
   "source": [
    "def my_decorator(func):\n",
    "    def wrapper(*args, **kwargs):\n",
    "        print(\"Something is happening before the function is called.\")\n",
    "        result = func(*args, **kwargs)\n",
    "        print(\"Something is happening after the function is called.\")\n",
    "        return result\n",
    "    return wrapper\n",
    "\n",
    "@my_decorator\n",
    "def say_hello():\n",
    "    print(\"Hello!\")\n",
    "\n",
    "say_hello()"
   ]
  },
  {
   "cell_type": "code",
   "execution_count": null,
   "metadata": {},
   "outputs": [],
   "source": []
  }
 ],
 "metadata": {
  "kernelspec": {
   "display_name": "Python 3",
   "language": "python",
   "name": "python3"
  },
  "language_info": {
   "codemirror_mode": {
    "name": "ipython",
    "version": 3
   },
   "file_extension": ".py",
   "mimetype": "text/x-python",
   "name": "python",
   "nbconvert_exporter": "python",
   "pygments_lexer": "ipython3",
   "version": "3.10.12"
  }
 },
 "nbformat": 4,
 "nbformat_minor": 2
}
